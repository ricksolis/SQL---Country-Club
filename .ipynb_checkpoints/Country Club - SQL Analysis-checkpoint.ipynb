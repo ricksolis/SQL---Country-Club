{
 "cells": [
  {
   "cell_type": "code",
   "execution_count": 41,
   "metadata": {},
   "outputs": [],
   "source": [
    "from sqlalchemy import create_engine\n",
    "import pandas as pd\n",
    "engine = create_engine('sqlite:///country_club2.sqlite')"
   ]
  },
  {
   "cell_type": "code",
   "execution_count": 43,
   "metadata": {},
   "outputs": [
    {
     "name": "stdout",
     "output_type": "stream",
     "text": [
      "            name  Revenue\n",
      "0   Table Tennis      180\n",
      "1  Snooker Table      240\n",
      "2     Pool Table      270\n"
     ]
    }
   ],
   "source": [
    "\n",
    "\n",
    "q10_query = 'SELECT f.name, SUM(CASE WHEN (m.memid = 0) THEN f.guestcost * b.slots ELSE f.membercost * b.slots END) as Revenue FROM Facilities f JOIN Bookings b ON b.facid = f.facid JOIN Members m ON m.memid = b.memid GROUP BY b.facid HAVING Revenue < 1000 ORDER BY Revenue'\n",
    "\n",
    "df = pd.read_sql_query(q10_query, engine)\n",
    "print(df)\n"
   ]
  },
  {
   "cell_type": "code",
   "execution_count": 44,
   "metadata": {},
   "outputs": [
    {
     "name": "stdout",
     "output_type": "stream",
     "text": [
      "                     Member     Recommended_By\n",
      "0            Florence Bader    Ponder Stibbons\n",
      "1                Anne Baker    Ponder Stibbons\n",
      "2             Timothy Baker     Jemima Farrell\n",
      "3                Tim Boothe         Tim Rownam\n",
      "4            Gerald Butters       Darren Smith\n",
      "5               Joan Coplin      Timothy Baker\n",
      "6             Erica Crumpet        Tracy Smith\n",
      "7                Nancy Dare    Janice Joplette\n",
      "8           Matthew Genting     Gerald Butters\n",
      "9                 John Hunt  Millicent Purview\n",
      "10              David Jones    Janice Joplette\n",
      "11            Douglas Jones        David Jones\n",
      "12          Janice Joplette       Darren Smith\n",
      "13           Anna Mackenzie       Darren Smith\n",
      "14             Charles Owen       Darren Smith\n",
      "15             David Pinker     Jemima Farrell\n",
      "16        Millicent Purview        Tracy Smith\n",
      "17         Henrietta Rumney    Matthew Genting\n",
      "18         Ramnaresh Sarwin     Florence Bader\n",
      "19               Jack Smith       Darren Smith\n",
      "20          Ponder Stibbons       Burton Tracy\n",
      "21  Henry Worthington-Smyth        Tracy Smith\n"
     ]
    }
   ],
   "source": [
    "q11_query  = \"SELECT m.firstname || ' ' || m.surname AS Member, m2.firstname || ' ' || m2.surname as Recommended_By FROM Members m JOIN Members m2 ON m2.memid = m.recommendedby WHERE m.recommendedby > 0 ORDER BY m.surname\"\n",
    "df = pd.read_sql_query(q11_query, engine)\n",
    "print(df)"
   ]
  },
  {
   "cell_type": "code",
   "execution_count": 45,
   "metadata": {},
   "outputs": [
    {
     "name": "stdout",
     "output_type": "stream",
     "text": [
      "              name  Member_Bookings\n",
      "0   Tennis Court 1              308\n",
      "1   Tennis Court 2              276\n",
      "2  Badminton Court              344\n",
      "3     Table Tennis              385\n",
      "4   Massage Room 1              421\n",
      "5   Massage Room 2               27\n",
      "6     Squash Court              195\n",
      "7    Snooker Table              421\n",
      "8       Pool Table              783\n"
     ]
    }
   ],
   "source": [
    "q12_query = 'SELECT f.name, COUNT(b.bookid) as Member_Bookings FROM Bookings b JOIN Facilities f ON f.facid = b.facid JOIN Members m ON b.memid = m.memid WHERE b.memid > 0 GROUP by f.facid '\n",
    "df = pd.read_sql_query(q12_query, engine)\n",
    "print(df)"
   ]
  },
  {
   "cell_type": "code",
   "execution_count": 46,
   "metadata": {},
   "outputs": [
    {
     "name": "stdout",
     "output_type": "stream",
     "text": [
      "   Month  Monthly_Usage         Fac_Name\n",
      "0     07              4   Massage Room 2\n",
      "1     07             23     Squash Court\n",
      "2     07             41   Tennis Court 2\n",
      "3     07             48     Table Tennis\n",
      "4     07             51  Badminton Court\n",
      "5     07             65   Tennis Court 1\n",
      "6     07             68    Snooker Table\n",
      "7     07             77   Massage Room 1\n",
      "8     07            103       Pool Table\n",
      "9     08              9   Massage Room 2\n",
      "10    08             85     Squash Court\n",
      "11    08            109   Tennis Court 2\n",
      "12    08            111   Tennis Court 1\n",
      "13    08            132  Badminton Court\n",
      "14    08            143     Table Tennis\n",
      "15    08            153   Massage Room 1\n",
      "16    08            154    Snooker Table\n",
      "17    08            272       Pool Table\n",
      "18    09             14   Massage Room 2\n",
      "19    09             87     Squash Court\n",
      "20    09            126   Tennis Court 2\n",
      "21    09            132   Tennis Court 1\n",
      "22    09            161  Badminton Court\n",
      "23    09            191   Massage Room 1\n",
      "24    09            194     Table Tennis\n",
      "25    09            199    Snooker Table\n",
      "26    09            408       Pool Table\n"
     ]
    }
   ],
   "source": [
    "q13_query = 'SELECT Month, Count(Month) as Monthly_Usage, Fac_Name FROM (SELECT strftime(\\'%m\\',b.starttime) as Month, b.facid, f.name as Fac_Name FROM Bookings b JOIN Members m ON b.memid = m.memid JOIN Facilities f ON f.facid = b.facid WHERE b.memid > 0 AND strftime(\\'%m\\',b.starttime) = \\'08\\') As sub GROUP BY Fac_Name UNION SELECT Month, Count(Month) as Monthly_Usage, Fac_Name FROM (SELECT strftime(\\'%m\\',b.starttime) as Month, b.facid, f.name as Fac_Name FROM Bookings b JOIN Members m ON b.memid = m.memid JOIN Facilities f ON f.facid = b.facid WHERE b.memid > 0 AND strftime(\\'%m\\',b.starttime) = \\'09\\') As sub GROUP BY Fac_Name UNION SELECT Month, Count(Month) as Monthly_Usage, Fac_Name FROM (SELECT strftime(\\'%m\\',b.starttime) as Month, b.facid, f.name as Fac_Name FROM Bookings b JOIN Members m ON b.memid = m.memid JOIN Facilities f ON f.facid = b.facid WHERE b.memid > 0 AND strftime(\\'%m\\',b.starttime) = \\'07\\') As sub GROUP BY Fac_Name'\n",
    "df = pd.read_sql_query(q13_query, engine)\n",
    "print(df)"
   ]
  },
  {
   "cell_type": "code",
   "execution_count": null,
   "metadata": {},
   "outputs": [],
   "source": []
  }
 ],
 "metadata": {
  "kernelspec": {
   "display_name": "Python 3",
   "language": "python",
   "name": "python3"
  },
  "language_info": {
   "codemirror_mode": {
    "name": "ipython",
    "version": 3
   },
   "file_extension": ".py",
   "mimetype": "text/x-python",
   "name": "python",
   "nbconvert_exporter": "python",
   "pygments_lexer": "ipython3",
   "version": "3.7.6"
  }
 },
 "nbformat": 4,
 "nbformat_minor": 4
}
